{
 "cells": [
  {
   "cell_type": "markdown",
   "metadata": {},
   "source": [
    "### Dependent libraries"
   ]
  },
  {
   "cell_type": "code",
   "execution_count": 1,
   "metadata": {},
   "outputs": [
    {
     "name": "stderr",
     "output_type": "stream",
     "text": [
      "Loading required package: gplots\n",
      "\n",
      "Attaching package: ‘gplots’\n",
      "\n",
      "The following object is masked from ‘package:stats’:\n",
      "\n",
      "    lowess\n",
      "\n"
     ]
    }
   ],
   "source": [
    "library(data.table)\n",
    "library(ggplot2)\n",
    "library(MASS)\n",
    "library(rmeta)\n",
    "library(ROCR)"
   ]
  },
  {
   "cell_type": "markdown",
   "metadata": {},
   "source": [
    "### R as a calculator"
   ]
  },
  {
   "cell_type": "code",
   "execution_count": 341,
   "metadata": {},
   "outputs": [
    {
     "data": {
      "text/html": [
       "3.14159265358979"
      ],
      "text/latex": [
       "3.14159265358979"
      ],
      "text/markdown": [
       "3.14159265358979"
      ],
      "text/plain": [
       "[1] 3.141593"
      ]
     },
     "metadata": {},
     "output_type": "display_data"
    },
    {
     "data": {
      "text/html": [
       "4"
      ],
      "text/latex": [
       "4"
      ],
      "text/markdown": [
       "4"
      ],
      "text/plain": [
       "[1] 4"
      ]
     },
     "metadata": {},
     "output_type": "display_data"
    },
    {
     "data": {
      "text/html": [
       "7"
      ],
      "text/latex": [
       "7"
      ],
      "text/markdown": [
       "7"
      ],
      "text/plain": [
       "[1] 7"
      ]
     },
     "metadata": {},
     "output_type": "display_data"
    },
    {
     "data": {
      "text/html": [
       "-3"
      ],
      "text/latex": [
       "-3"
      ],
      "text/markdown": [
       "-3"
      ],
      "text/plain": [
       "[1] -3"
      ]
     },
     "metadata": {},
     "output_type": "display_data"
    },
    {
     "data": {
      "text/html": [
       "10"
      ],
      "text/latex": [
       "10"
      ],
      "text/markdown": [
       "10"
      ],
      "text/plain": [
       "[1] 10"
      ]
     },
     "metadata": {},
     "output_type": "display_data"
    },
    {
     "data": {
      "text/html": [
       "0.4"
      ],
      "text/latex": [
       "0.4"
      ],
      "text/markdown": [
       "0.4"
      ],
      "text/plain": [
       "[1] 0.4"
      ]
     },
     "metadata": {},
     "output_type": "display_data"
    },
    {
     "data": {
      "text/html": [
       "32"
      ],
      "text/latex": [
       "32"
      ],
      "text/markdown": [
       "32"
      ],
      "text/plain": [
       "[1] 32"
      ]
     },
     "metadata": {},
     "output_type": "display_data"
    },
    {
     "data": {
      "text/html": [
       "7"
      ],
      "text/latex": [
       "7"
      ],
      "text/markdown": [
       "7"
      ],
      "text/plain": [
       "[1] 7"
      ]
     },
     "metadata": {},
     "output_type": "display_data"
    },
    {
     "data": {
      "text/html": [
       "10"
      ],
      "text/latex": [
       "10"
      ],
      "text/markdown": [
       "10"
      ],
      "text/plain": [
       "[1] 10"
      ]
     },
     "metadata": {},
     "output_type": "display_data"
    },
    {
     "data": {
      "text/html": [
       "123.46"
      ],
      "text/latex": [
       "123.46"
      ],
      "text/markdown": [
       "123.46"
      ],
      "text/plain": [
       "[1] 123.46"
      ]
     },
     "metadata": {},
     "output_type": "display_data"
    },
    {
     "data": {
      "text/html": [
       "10"
      ],
      "text/latex": [
       "10"
      ],
      "text/markdown": [
       "10"
      ],
      "text/plain": [
       "[1] 10"
      ]
     },
     "metadata": {},
     "output_type": "display_data"
    }
   ],
   "source": [
    "pi\n",
    "log(16, 2)\n",
    "2 + 5\n",
    "2 - 5\n",
    "2 * 5\n",
    "2 / 5\n",
    "2^5\n",
    "abs(-7)\n",
    "sqrt(100)\n",
    "round(123.456, 2)\n",
    "choose(5, 2)"
   ]
  },
  {
   "cell_type": "markdown",
   "metadata": {},
   "source": [
    "### Operator\n",
    "QUESTION: Can you convert the body temperature 102 Fahrenheit to Celsius?"
   ]
  },
  {
   "cell_type": "code",
   "execution_count": null,
   "metadata": {},
   "outputs": [],
   "source": [
    "sbp <- 160\n",
    "sbp > 120\n",
    "1 + 2\n",
    "3 * 5\n",
    "30 / 5\n",
    "tempcelcius <- 40\n",
    "tempcelcius\n",
    "tempfahrenheit <-  tempcelcius * (9/5) + 32\n",
    "tempfahrenheit"
   ]
  },
  {
   "cell_type": "markdown",
   "metadata": {},
   "source": [
    "### Vector\n",
    "QUESTION: How many patients are in hypertension (sbp > 120)?\n",
    "QUESTION: How many female patients are there?\n",
    "QUESTION: What is the median value of the cholesterol?"
   ]
  },
  {
   "cell_type": "code",
   "execution_count": null,
   "metadata": {},
   "outputs": [],
   "source": [
    "sbp <- c(160, 110, 105, 150, 170)\n",
    "sbp\n",
    "sbp[1]\n",
    "sbp[1:3]\n",
    "sbp[-5]\n",
    "gender <- c(\"male\", \"male\", \"female\", \"male\", \"female\")\n",
    "gender\n",
    "tempcelcius <- c(40, 39, 40.5, 38.2, 37.2)\n",
    "tempcelcius\n",
    "tempfahrenheit <-  tempcelcius * (9/5) + 32\n",
    "tempfahrenheit\n",
    "cholesterol <- c(177, 193, 195, 209, 226)\n",
    "cholesterol\n",
    "mean( cholesterol )\n",
    "max( cholesterol )"
   ]
  },
  {
   "cell_type": "markdown",
   "metadata": {},
   "source": [
    "### Factor variable"
   ]
  },
  {
   "cell_type": "code",
   "execution_count": null,
   "metadata": {},
   "outputs": [],
   "source": [
    "levels(gender)\n",
    "length(gender)\n",
    "factorizedgender = factor(gender)\n",
    "levels(factorizedgender)\n",
    "gender\n",
    "factorizedgender"
   ]
  },
  {
   "cell_type": "markdown",
   "metadata": {},
   "source": [
    "### Sequence"
   ]
  },
  {
   "cell_type": "code",
   "execution_count": null,
   "metadata": {},
   "outputs": [],
   "source": [
    "seq(0:10)\n",
    "seq(0, 10)\n",
    "seq(from = 0, to = 10, by = 2)\n",
    "rep(2, 10)\n",
    "rep(1:3, 5)\n",
    "rep(c(\"male\", \"female\"), 5)\n",
    "gl(2, 1, 12,  labels = c(\"low\", \"high\"))\n",
    "gl(n = 2, k = 3, length = 12,  labels = c(\"low\", \"high\"))"
   ]
  },
  {
   "cell_type": "markdown",
   "metadata": {},
   "source": [
    "### Matrix\n",
    "QUESTION: Calculate the row wise sum of the matrix m1."
   ]
  },
  {
   "cell_type": "code",
   "execution_count": null,
   "metadata": {},
   "outputs": [],
   "source": [
    "m1 <- matrix(c(1:15), nrow=3)\n",
    "m1\n",
    "m2 <- matrix(c(1:15), nrow=3, byrow=T)\n",
    "m2\n",
    "m1[,3]\n",
    "m1[,-3]\n",
    "m1*100\n",
    "m1 + 7\n",
    "t(m1)\n",
    "apply(m1, 1, sum)"
   ]
  },
  {
   "cell_type": "markdown",
   "metadata": {},
   "source": [
    "### Data frame\n",
    "QUESTION: How many individuals are there in this cohort?\n",
    "QUESTION: How many individuals experienced the relapse?"
   ]
  },
  {
   "cell_type": "code",
   "execution_count": null,
   "metadata": {},
   "outputs": [],
   "source": [
    "genotype <- c(\"AA\", \"AA\", \"AA\",  \"AA\", \"AA\", \"GG\", \"GG\", \"GG\", \"GG\")\n",
    "mrna <- c(100, 90, 105, 87, 92, 20, 24, 35, 27)\n",
    "ethnicity <- c(\"AFR\", \"AFR\", \"AFR\", \"AMR\",  \"AFR\", \"ASN\", \"EUR\", \"EUR\", \"EUR\")\n",
    "relapse <- c(\"yes\", \"yes\", \"yes\", \"no\", \"yes\", \"no\", \"no\", \"no\", \"no\")\n",
    "study <- data.frame( genotype, mrna, ethnicity, relapse)\n",
    "dim(study)\n",
    "nrow(study)\n",
    "head(study)\n",
    "colnames(study)\n",
    "study$mrna\n",
    "study$ethnicity[1:3]\n",
    "study$genotype[study$ethnicity == \"EUR\"]\n",
    "study$genotype[study$ethnicity == \"AFR\"]"
   ]
  },
  {
   "cell_type": "markdown",
   "metadata": {},
   "source": [
    "### Sorting\n",
    "QUESTION: How do you sort the mysbpdf dataframe by descending order of sbp, systolic blood pressure?"
   ]
  },
  {
   "cell_type": "code",
   "execution_count": null,
   "metadata": {},
   "outputs": [],
   "source": [
    "sbp <- c(160, 110, 170, 105, 165)\n",
    "sbp\n",
    "sort(sbp)\n",
    "patientid = c(\"john\", \"andy\", \"megan\", \"steven\", \"nicole\")\n",
    "mysbpdf = data.frame(patientid, sbp, rankSBP)\n",
    "mysbpdf\n",
    "mysbpdf[ rankSBP, ]\n",
    "mysbpdf[ order(sbp),]\n",
    "mysbpdf[ order(patientid),]"
   ]
  },
  {
   "cell_type": "markdown",
   "metadata": {},
   "source": [
    "### Loop"
   ]
  },
  {
   "cell_type": "code",
   "execution_count": null,
   "metadata": {},
   "outputs": [],
   "source": [
    "for (i in 1:10) {\n",
    "    print (i^2)\n",
    "}"
   ]
  },
  {
   "cell_type": "markdown",
   "metadata": {},
   "source": [
    "### Load a data from a file (n=699)\n",
    "Features are computed from a digitized image of a fine needle aspirate (FNA) of a breast mass. \n",
    "They describe characteristics of the cell nuclei present in the image. \n",
    "class (2 for benign, 4 for malignant)\n",
    "QUESTION: How many samples are there?\n",
    "QUESTION: What is the percentage of malignant samples?\n",
    "QUESTION: What is the mean clump thickness among malignant samples?\n",
    "QUESTION: What is the difference in samples with 'header = F' vs. 'header = T' in calling read.table() command?"
   ]
  },
  {
   "cell_type": "code",
   "execution_count": null,
   "metadata": {},
   "outputs": [],
   "source": [
    "url = \"https://archive.ics.uci.edu/ml/machine-learning-databases/breast-cancer-wisconsin/breast-cancer-wisconsin.data\"\n",
    "wisconsinRawdata = read.table( url, sep=\",\", header = F)[,-1] \n",
    "colnames(wisconsinRawdata) = c( \"clumpthickness\", \"uniformcellsize\", \"uniformcellshape\", \"marginaladhesion\",\n",
    "                           \"singleepicellsize\", \"bareneclei\", \"blanchromatin\", \"normalnucleoili\", \n",
    "                           \"mitoses\", \"class\" )\n",
    "wisconsinbc = data.table( wisconsinRawdata )\n",
    "head( wisconsinbc )\n",
    "## print the clump thickness values of the malignant samples\n",
    "wisconsinbc[ class == 4, clumpthickness]"
   ]
  },
  {
   "cell_type": "markdown",
   "metadata": {},
   "source": [
    "### Descriptive statistics\n",
    "bwt: baby's birthweight in grams\n",
    "smoke: mother's smoking status during pregnancy\n",
    "QUESTION: What is the minimum value of the birthweight?\n",
    "QUESTION: Between the two groups by smoking status during pregnancy, which one has the lower median birthweight?"
   ]
  },
  {
   "cell_type": "code",
   "execution_count": null,
   "metadata": {},
   "outputs": [],
   "source": [
    "data(birthwt)\n",
    "head(birthwt)\n",
    "summary(birthwt$bwt)"
   ]
  },
  {
   "cell_type": "markdown",
   "metadata": {},
   "source": [
    "### Binomial distribution\n",
    "QUESTION: Suppose the probability of developing chronic bronchitis disease in any one household (where both parents are chronic bronchitics) is 0.05. How likely are infants in at least 3 out 20 households (where both parents are chronic bronchitics) to develop chronic bronchitis ?"
   ]
  },
  {
   "cell_type": "code",
   "execution_count": null,
   "metadata": {},
   "outputs": [],
   "source": [
    "numhouse = 0:20\n",
    "cbProb <- dbinom(numhouse,  20, 0.05) \n",
    "names(cbProb) = c(numhouse)\n",
    "barplot(cbProb, ylab=\"Probability\", xlab=\"k\", col=ifelse(numhouse >= 3, \"orange\", \"grey\") )"
   ]
  },
  {
   "cell_type": "markdown",
   "metadata": {},
   "source": [
    "### Poisson distribution\n",
    "QUESTION: Birth in a hospital occur randomly at an average rate of 1.8 births per hours. what is the probability of observing exactly 4 births in a given hour at the hospital? What about the probability of obeserving more than or equal to 2 births in a given hospital?"
   ]
  },
  {
   "cell_type": "code",
   "execution_count": null,
   "metadata": {},
   "outputs": [],
   "source": [
    "dpois(4, lambda = 1.8)\n",
    "countbirth = c(0:12)\n",
    "probbirth = dpois(countbirth, lambda = 1.8)\n",
    "names(probbirth) = countbirth\n",
    "barplot(probbirth, ylab = \"probability\", xlab = \"number of birth\")"
   ]
  },
  {
   "cell_type": "markdown",
   "metadata": {},
   "source": [
    "### Normal distribution\n",
    "QUESTION: Can you repeat the code below by generating numbers from the Chi-square distribution with degree of freedom 2 instead of Normal distribution?"
   ]
  },
  {
   "cell_type": "code",
   "execution_count": null,
   "metadata": {},
   "outputs": [],
   "source": [
    "myRandomNumbers = rnorm(2000, 0, 1)\n",
    "shapiro.test(myRandomNumbers)\n",
    "qqnorm(myRandomNumbers)\n",
    "qqline(myRandomNumbers)\n",
    "hist(myRandomNumbers)"
   ]
  },
  {
   "cell_type": "markdown",
   "metadata": {},
   "source": [
    "### Paired t test\n",
    "QUESTION: Oral Contraceptive (OC) study with a group of nonpregnant, premenopausal women of age (16-49) who are not currently OC user measured their blood pressure and call this baseline blood pressure. After one year, rescreen these women to ascertain a subgroup who have remained nonpregnant throughout the year and have become OC users. And measure the blood pressure of this study population at the follow-up visit. What is the mean of the difference in systolic blood pressure between two groups?"
   ]
  },
  {
   "cell_type": "code",
   "execution_count": null,
   "metadata": {},
   "outputs": [],
   "source": [
    "sbpBaseline <- c(115, 112, 107, 119, 115, 138, 126, 105, 104, 115)\n",
    "sbpUsingOC  <- c(128, 115, 106, 128, 122, 145, 132, 109, 102, 117)\n",
    "t.test(sbpBaseline, sbpUsingOC, paired = TRUE)"
   ]
  },
  {
   "cell_type": "markdown",
   "metadata": {},
   "source": [
    "### Two-sample t-test\n",
    "QUESTION: Is there a significant difference in birth weight between smoker and non-smokers during pregnancy?"
   ]
  },
  {
   "cell_type": "code",
   "execution_count": null,
   "metadata": {},
   "outputs": [],
   "source": [
    "data(birthwt)\n",
    "head(birthwt)\n",
    "boxplot( bwt ~ factor(ui), data = birthwt, boxwex=0.3,  col = c(\"royalblue\", \"orange\"),\n",
    "         ylab = \"birth weight in grams\", xlab = \"Presence of uterine irritability\")\n",
    "t.test( birthwt$bwt[birthwt$ui==1], birthwt$bwt[birthwt$ui==0], paired = FALSE)"
   ]
  },
  {
   "cell_type": "markdown",
   "metadata": {},
   "source": [
    "### Wilcoxon rank-sum test, a non-parametric test for two independent samples\n",
    "QUESTION: Why might a t-test not be useful to ccompare the hospital Length Of Stay (LOS) between two hospitals A and B?"
   ]
  },
  {
   "cell_type": "code",
   "execution_count": null,
   "metadata": {},
   "outputs": [],
   "source": [
    "LOS.hospitalA = c(21, 10, 32, 60, 8, 44, 29, 5, 13, 26, 33)\n",
    "LOS.hospitalB = c(86, 27, 10, 68, 87, 76, 125, 60, 35, 73, 96, 44, 238)\n",
    "#t.test(LOS.hospitalA , LOS.hospitalB) "
   ]
  },
  {
   "cell_type": "markdown",
   "metadata": {},
   "source": [
    "### Logistic Regression.\n",
    "QUESTION: This R code will result in an error. Can you fix it?\n",
    "QUESTION: Can you round the p-value of estimates to the nearest hundredth?"
   ]
  },
  {
   "cell_type": "code",
   "execution_count": 3,
   "metadata": {},
   "outputs": [
    {
     "ename": "ERROR",
     "evalue": "Error in is.data.frame(data): object 'wisconsinbc' not found\n",
     "output_type": "error",
     "traceback": [
      "Error in is.data.frame(data): object 'wisconsinbc' not found\nTraceback:\n",
      "1. glm(class ~ clumpthickness + uniformcellshape + marginaladhesion + \n .     blanchromatin, data = wisconsinbc, family = \"binomial\")",
      "2. eval(mf, parent.frame())",
      "3. eval(mf, parent.frame())",
      "4. stats::model.frame(formula = class ~ clumpthickness + uniformcellshape + \n .     marginaladhesion + blanchromatin, data = wisconsinbc, drop.unused.levels = TRUE)",
      "5. model.frame.default(formula = class ~ clumpthickness + uniformcellshape + \n .     marginaladhesion + blanchromatin, data = wisconsinbc, drop.unused.levels = TRUE)",
      "6. is.data.frame(data)"
     ]
    }
   ],
   "source": [
    "m1 <- glm( class ~ clumpthickness + uniformcellshape + marginaladhesion + blanchromatin, \n",
    "           data = wisconsinbc, \n",
    "           family = \"binomial\")\n",
    "summary( m1 )$coef"
   ]
  },
  {
   "cell_type": "markdown",
   "metadata": {},
   "source": [
    "### Performance of binary classifier "
   ]
  },
  {
   "cell_type": "code",
   "execution_count": 2,
   "metadata": {},
   "outputs": [
    {
     "ename": "ERROR",
     "evalue": "Error in summary(m1): object 'm1' not found\n",
     "output_type": "error",
     "traceback": [
      "Error in summary(m1): object 'm1' not found\nTraceback:\n",
      "1. summary(m1)"
     ]
    }
   ],
   "source": [
    "summary(m1)"
   ]
  },
  {
   "cell_type": "markdown",
   "metadata": {},
   "source": [
    "### Odds ratio\n",
    "A randomised trial of corticosteroid therapy in premature labor and its effect on neonatal death."
   ]
  },
  {
   "cell_type": "code",
   "execution_count": 347,
   "metadata": {},
   "outputs": [
    {
     "data": {
      "text/html": [
       "<table>\n",
       "<thead><tr><th scope=col>name</th><th scope=col>ev.trt</th><th scope=col>n.trt</th><th scope=col>ev.ctrl</th><th scope=col>n.ctrl</th></tr></thead>\n",
       "<tbody>\n",
       "\t<tr><td>Auckland    </td><td>36          </td><td>532         </td><td>60          </td><td>538         </td></tr>\n",
       "\t<tr><td>Block       </td><td> 1          </td><td> 69         </td><td> 5          </td><td> 61         </td></tr>\n",
       "\t<tr><td>Doran       </td><td> 4          </td><td> 81         </td><td>11          </td><td> 63         </td></tr>\n",
       "\t<tr><td>Gamsu       </td><td>14          </td><td>131         </td><td>20          </td><td>137         </td></tr>\n",
       "\t<tr><td>Morrison    </td><td> 3          </td><td> 67         </td><td> 7          </td><td> 59         </td></tr>\n",
       "\t<tr><td>Papageorgiou</td><td> 1          </td><td> 71         </td><td> 7          </td><td> 75         </td></tr>\n",
       "</tbody>\n",
       "</table>\n"
      ],
      "text/latex": [
       "\\begin{tabular}{r|lllll}\n",
       " name & ev.trt & n.trt & ev.ctrl & n.ctrl\\\\\n",
       "\\hline\n",
       "\t Auckland     & 36           & 532          & 60           & 538         \\\\\n",
       "\t Block        &  1           &  69          &  5           &  61         \\\\\n",
       "\t Doran        &  4           &  81          & 11           &  63         \\\\\n",
       "\t Gamsu        & 14           & 131          & 20           & 137         \\\\\n",
       "\t Morrison     &  3           &  67          &  7           &  59         \\\\\n",
       "\t Papageorgiou &  1           &  71          &  7           &  75         \\\\\n",
       "\\end{tabular}\n"
      ],
      "text/markdown": [
       "\n",
       "name | ev.trt | n.trt | ev.ctrl | n.ctrl | \n",
       "|---|---|---|---|---|---|\n",
       "| Auckland     | 36           | 532          | 60           | 538          | \n",
       "| Block        |  1           |  69          |  5           |  61          | \n",
       "| Doran        |  4           |  81          | 11           |  63          | \n",
       "| Gamsu        | 14           | 131          | 20           | 137          | \n",
       "| Morrison     |  3           |  67          |  7           |  59          | \n",
       "| Papageorgiou |  1           |  71          |  7           |  75          | \n",
       "\n",
       "\n"
      ],
      "text/plain": [
       "  name         ev.trt n.trt ev.ctrl n.ctrl\n",
       "1 Auckland     36     532   60      538   \n",
       "2 Block         1      69    5       61   \n",
       "3 Doran         4      81   11       63   \n",
       "4 Gamsu        14     131   20      137   \n",
       "5 Morrison      3      67    7       59   \n",
       "6 Papageorgiou  1      71    7       75   "
      ]
     },
     "metadata": {},
     "output_type": "display_data"
    },
    {
     "data": {
      "image/png": "[encoded data removed]",
      "text/plain": [
       "plot without title"
      ]
     },
     "metadata": {},
     "output_type": "display_data"
    }
   ],
   "source": [
    "data( cochrane )\n",
    "head( cochrane )\n",
    "steroid <- meta.MH(n.trt, n.ctrl, \n",
    "                   ev.trt, ev.ctrl,\n",
    "                   names=name, data=cochrane)\n",
    "tabletext <- cbind( \n",
    "  c(\"\",\"Study\",steroid$names,NA,\"Summary\"),\n",
    "  c(\"Deaths\",\"(steroid)\",cochrane$ev.trt,NA,NA),\n",
    "  c(\"Deaths\",\"(placebo)\", cochrane$ev.ctrl, NA,NA),\n",
    "  c(\"\",\"OR\",format(exp(steroid$logOR),digits=2),NA,format(exp(steroid$logMH),digits=2))\n",
    ")\n",
    "m.ci <-     c(NA, NA, steroid$logOR,   NA, steroid$logMH)\n",
    "l.ci <- m.ci - c(NA, NA, steroid$selogOR, NA, steroid$selogMH)*2\n",
    "u.ci <- m.ci + c(NA, NA, steroid$selogOR, NA, steroid$selogMH)*2\n",
    "\n",
    "forestplot(tabletext, m.ci, l.ci, u.ci, zero=0, \n",
    "           is.summary=c(TRUE,TRUE,rep(FALSE,8),TRUE),\n",
    "           clip=c(log(0.1),log(2.5)), \n",
    "           xlog=TRUE,\n",
    "           col=meta.colors(box=\"royalblue\", \n",
    "                           line=\"darkblue\", \n",
    "                           summary=\"royalblue\"))"
   ]
  },
  {
   "cell_type": "code",
   "execution_count": null,
   "metadata": {},
   "outputs": [],
   "source": []
  }
 ],
 "metadata": {
  "kernelspec": {
   "display_name": "R",
   "language": "R",
   "name": "ir"
  },
  "language_info": {
   "codemirror_mode": "r",
   "file_extension": ".r",
   "mimetype": "text/x-r-source",
   "name": "R",
   "pygments_lexer": "r",
   "version": "3.5.0"
  }
 },
 "nbformat": 4,
 "nbformat_minor": 2
}
