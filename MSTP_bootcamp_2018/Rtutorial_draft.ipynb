{
 "cells": [
  {
   "cell_type": "markdown",
   "metadata": {},
   "source": [
    "### Dependent libraries"
   ]
  },
  {
   "cell_type": "code",
   "execution_count": null,
   "metadata": {},
   "outputs": [],
   "source": [
    "library(data.table)\n",
    "library(ggplot2)\n",
    "library(Hmisc)\n",
    "library(MASS)\n",
    "library(rmeta)\n",
    "library(ResourceSelection)\n",
    "library(rmeta)\n",
    "library(ROCR)\n",
    "library(survminer)"
   ]
  },
  {
   "cell_type": "markdown",
   "metadata": {},
   "source": [
    "### R as a calculator"
   ]
  },
  {
   "cell_type": "code",
   "execution_count": null,
   "metadata": {},
   "outputs": [],
   "source": [
    "pi\n",
    "log(16, 2)\n",
    "2 + 5\n",
    "2 - 5\n",
    "2 * 5\n",
    "2 / 5\n",
    "2^5\n",
    "abs(-7)\n",
    "sqrt(100)\n",
    "round(123.456, 2)\n",
    "choose(5, 2)"
   ]
  },
  {
   "cell_type": "markdown",
   "metadata": {},
   "source": [
    "### Operator\n",
    "QUESTION: Can you convert the body temperature 102 Fahrenheit to Celsius?"
   ]
  },
  {
   "cell_type": "code",
   "execution_count": null,
   "metadata": {},
   "outputs": [],
   "source": [
    "sbp <- 160\n",
    "sbp > 120\n",
    "1 + 2\n",
    "3 * 5\n",
    "30 / 5\n",
    "tempcelcius <- 40\n",
    "tempcelcius\n",
    "tempfahrenheit <-  tempcelcius * (9/5) + 32\n",
    "tempfahrenheit"
   ]
  },
  {
   "cell_type": "markdown",
   "metadata": {},
   "source": [
    "### Vector\n",
    "QUESTION: How many patients are in hypertension (sbp > 120)?\n",
    "QUESTION: How many female patients are there?\n",
    "QUESTION: What is the median value of the cholesterol?"
   ]
  },
  {
   "cell_type": "code",
   "execution_count": null,
   "metadata": {},
   "outputs": [],
   "source": [
    "sbp <- c(160, 110, 105, 150, 170)\n",
    "sbp\n",
    "sbp[1]\n",
    "sbp[1:3]\n",
    "sbp[-5]\n",
    "gender <- c(\"male\", \"male\", \"female\", \"male\", \"female\")\n",
    "gender\n",
    "tempcelcius <- c(40, 39, 40.5, 38.2, 37.2)\n",
    "tempcelcius\n",
    "tempfahrenheit <-  tempcelcius * (9/5) + 32\n",
    "tempfahrenheit\n",
    "cholesterol <- c(177, 193, 195, 209, 226)\n",
    "cholesterol\n",
    "mean( cholesterol )\n",
    "max( cholesterol )"
   ]
  },
  {
   "cell_type": "markdown",
   "metadata": {},
   "source": [
    "### Factor variable"
   ]
  },
  {
   "cell_type": "code",
   "execution_count": null,
   "metadata": {},
   "outputs": [],
   "source": [
    "levels(gender)\n",
    "length(gender)\n",
    "factorizedgender = factor(gender)\n",
    "levels(factorizedgender)\n",
    "gender\n",
    "factorizedgender"
   ]
  },
  {
   "cell_type": "markdown",
   "metadata": {},
   "source": [
    "### Sequence"
   ]
  },
  {
   "cell_type": "code",
   "execution_count": null,
   "metadata": {},
   "outputs": [],
   "source": [
    "seq(0:10)\n",
    "seq(0, 10)\n",
    "seq(from = 0, to = 10, by = 2)\n",
    "rep(2, 10)\n",
    "rep(1:3, 5)\n",
    "rep(c(\"male\", \"female\"), 5)\n",
    "gl(2, 1, 12,  labels = c(\"low\", \"high\"))\n",
    "gl(n = 2, k = 3, length = 12,  labels = c(\"low\", \"high\"))"
   ]
  },
  {
   "cell_type": "markdown",
   "metadata": {},
   "source": [
    "### Matrix\n",
    "QUESTION: Calculate the row wise sum of the matrix m1."
   ]
  },
  {
   "cell_type": "code",
   "execution_count": null,
   "metadata": {},
   "outputs": [],
   "source": [
    "m1 <- matrix(c(1:15), nrow=3)\n",
    "m1\n",
    "m2 <- matrix(c(1:15), nrow=3, byrow=T)\n",
    "m2\n",
    "m1[,3]\n",
    "m1[,-3]\n",
    "m1*100\n",
    "m1 + 7\n",
    "t(m1)\n",
    "apply(m1, 1, sum)"
   ]
  },
  {
   "cell_type": "markdown",
   "metadata": {},
   "source": [
    "### Data frame\n",
    "QUESTION: How many individuals are there in this cohort?\n",
    "QUESTION: How many individuals experienced the relapse?"
   ]
  },
  {
   "cell_type": "code",
   "execution_count": null,
   "metadata": {},
   "outputs": [],
   "source": [
    "genotype <- c(\"AA\", \"AA\", \"AA\",  \"AA\", \"AA\", \"GG\", \"GG\", \"GG\", \"GG\")\n",
    "mrna <- c(100, 90, 105, 87, 92, 20, 24, 35, 27)\n",
    "ethnicity <- c(\"AFR\", \"AFR\", \"AFR\", \"AMR\",  \"AFR\", \"ASN\", \"EUR\", \"EUR\", \"EUR\")\n",
    "relapse <- c(\"yes\", \"yes\", \"yes\", \"no\", \"yes\", \"no\", \"no\", \"no\", \"no\")\n",
    "study <- data.frame( genotype, mrna, ethnicity, relapse)\n",
    "dim(study)\n",
    "nrow(study)\n",
    "head(study)\n",
    "colnames(study)\n",
    "study$mrna\n",
    "study$ethnicity[1:3]\n",
    "study$genotype[study$ethnicity == \"EUR\"]\n",
    "study$genotype[study$ethnicity == \"AFR\"]"
   ]
  },
  {
   "cell_type": "markdown",
   "metadata": {},
   "source": [
    "### Sorting\n",
    "QUESTION: How do you sort the mysbpdf dataframe by descending order of sbp, systolic blood pressure?"
   ]
  },
  {
   "cell_type": "code",
   "execution_count": null,
   "metadata": {},
   "outputs": [],
   "source": [
    "sbp <- c(160, 110, 170, 105, 165)\n",
    "sbp\n",
    "rankSBP = rank(sbp)\n",
    "sort(sbp)\n",
    "patientid = c(\"john\", \"andy\", \"megan\", \"steven\", \"nicole\")\n",
    "mysbpdf = data.frame(patientid, sbp, rankSBP)\n",
    "mysbpdf\n",
    "mysbpdf[ order(sbp),]\n",
    "mysbpdf[ order(patientid),]"
   ]
  },
  {
   "cell_type": "markdown",
   "metadata": {},
   "source": [
    "### Loop"
   ]
  },
  {
   "cell_type": "code",
   "execution_count": null,
   "metadata": {},
   "outputs": [],
   "source": [
    "for (i in 1:10) {\n",
    "    print (i^2)\n",
    "}"
   ]
  },
  {
   "cell_type": "markdown",
   "metadata": {},
   "source": [
    "### Load a data from a file (n=699)\n",
    "Features are computed from a digitized image of a fine needle aspirate (FNA) of a breast mass. \n",
    "They describe characteristics of the cell nuclei present in the image. \n",
    "class (2 for benign, 4 for malignant)\n",
    "QUESTION: How many samples are there?\n",
    "QUESTION: What is the percentage of malignant samples?\n",
    "QUESTION: What is the mean clump thickness among malignant samples?\n",
    "QUESTION: What is the difference in samples with 'header = F' vs. 'header = T' in calling read.table() command?"
   ]
  },
  {
   "cell_type": "code",
   "execution_count": null,
   "metadata": {},
   "outputs": [],
   "source": [
    "url = \"https://archive.ics.uci.edu/ml/machine-learning-databases/breast-cancer-wisconsin/breast-cancer-wisconsin.data\"\n",
    "wisconsinRawdata = read.table( url, sep=\",\", header = F)[,-1] \n",
    "colnames(wisconsinRawdata) = c( \"clumpthickness\", \"uniformcellsize\", \"uniformcellshape\", \"marginaladhesion\",\n",
    "                           \"singleepicellsize\", \"bareneclei\", \"blanchromatin\", \"normalnucleoili\", \n",
    "                           \"mitoses\", \"class\" )\n",
    "wisconsinbc = data.table( wisconsinRawdata )\n",
    "head( wisconsinbc )\n",
    "## print the clump thickness values of the malignant samples\n",
    "wisconsinbc[ class == 4, clumpthickness]"
   ]
  },
  {
   "cell_type": "markdown",
   "metadata": {},
   "source": [
    "### Descriptive statistics\n",
    "bwt: baby's birthweight in grams\n",
    "smoke: mother's smoking status during pregnancy\n",
    "QUESTION: What is the minimum value of the birthweight?\n",
    "QUESTION: Between the two groups by smoking status during pregnancy, which one has the lower median birthweight?"
   ]
  },
  {
   "cell_type": "code",
   "execution_count": null,
   "metadata": {},
   "outputs": [],
   "source": [
    "data(birthwt)\n",
    "head(birthwt)\n",
    "summary(birthwt$bwt)"
   ]
  },
  {
   "cell_type": "markdown",
   "metadata": {},
   "source": [
    "### P-value\n",
    "The p-value is the probability obtaining a test statistic as extreme as or more extreme than the observed statistic given that the null hypothesis is true"
   ]
  },
  {
   "cell_type": "markdown",
   "metadata": {},
   "source": [
    "### Understanding P-value through a permutation test\n",
    "- A randomization test is a permutation test based on randomization (random assignment).\n",
    "- Its goal is to test a null hypothesis about treatment effects in a randomized experiment.\n",
    "- Can be used when the required distributional assumptions do NOT HOLD."
   ]
  },
  {
   "cell_type": "markdown",
   "metadata": {},
   "source": [
    "### Permutation test algorithm\n",
    "1. Compute an observed test statistic in the experiment data.\n",
    "2. Permute data(=rearrange data) and compute a new test statistic. Repeat multiple times.\n",
    "3. Calculate the proportion of permuted test statistic values greater or equal to the observed one.\n",
    "4. This proportion is the P-value."
   ]
  },
  {
   "cell_type": "markdown",
   "metadata": {},
   "source": [
    "### Permutation test example: Hypertension mouse model\n",
    "- Systolic blood pressure was measured in 250 progeny from a backcross between two mouse strains.\n",
    "- For simplicity, we focus on 50 (randomly chosen) mice genotyped at the D4Mit214 marker (although more markers were genotyped, chr4:45658442-45658566 bp, MGI:92846 http://www.informatics.jax.org/marker/MGI:92846.\n",
    "- The question is to see if there is an association between the D4Mit214 marker genotype (binary) and blood pressure level (continuous).\n",
    "- The values below show the systolic blood pressure (in mm of Hg) by the marker genotype, BA (heterozygous) or BB (homozygous) arranged in increasing order.\n",
    "- Reference: Copeland et al. Science 1993. A genetic linkage map of the mouse: current applications and future prospects.\n",
    "QUESTION: What is the difference in median values of systolic blood pressure between two genotypes?"
   ]
  },
  {
   "cell_type": "code",
   "execution_count": null,
   "metadata": {},
   "outputs": [],
   "source": [
    "het = c(86, 88, 89, 89, 92, 93, 94, 94, 94, \n",
    "      95, 95, 96, 96, 97, 97, 98, 98, 99, \n",
    "      99, 101, 106, 107, 110, 113, 116, 118)\n",
    "hom = c(89, 90, 92, 93, 93, 96, 99, 99, 99, 102,\n",
    "  103, 104, 105, 106, 106, 107, 108, 108, 110, 110,\n",
    "  112, 114, 116, 116)\n",
    "cond = c(rep(\"het\", length(het)), rep(\"hom\", length(hom)))\n",
    "dat <- data.frame( cond, sbp=c(het, hom) )\n",
    "ggplot(dat, aes(x=cond, y=sbp, fill=cond)) + \n",
    "  geom_boxplot(width=0.3)"
   ]
  },
  {
   "cell_type": "markdown",
   "metadata": {},
   "source": [
    "### Permutation p-value\n",
    "QUESTION: What p-value do you get if you change the permutation number to 10,000?"
   ]
  },
  {
   "cell_type": "code",
   "execution_count": null,
   "metadata": {},
   "outputs": [],
   "source": [
    "set.seed(2018)\n",
    "diff.obs = mean(hom) - mean(het)\n",
    "n.perm=5000\n",
    "diff.perm=rep(NA, n.perm)\n",
    "len.het=length(het)\n",
    "len.hom=length(hom)\n",
    "hethom = c(het, hom)\n",
    "for (i in 1 : n.perm) {\n",
    "    het.perm = sample(hethom, len.het, replace=TRUE)\n",
    "    hom.perm = sample(hethom, len.hom, replace=TRUE)\n",
    "    diff.perm[i] = mean(hom.perm) - mean(het.perm)\n",
    " }\n",
    "p.perm = sum( abs(diff.perm) >= abs(diff.obs) ) / n.perm\n",
    "print(p.perm)"
   ]
  },
  {
   "cell_type": "markdown",
   "metadata": {},
   "source": [
    "### Parametric test"
   ]
  },
  {
   "cell_type": "code",
   "execution_count": null,
   "metadata": {},
   "outputs": [],
   "source": [
    "print(p.perm)\n",
    "t.test(het, hom)$p.value\n",
    "wilcox.test(het, hom, exact=FALSE)$p.value"
   ]
  },
  {
   "cell_type": "markdown",
   "metadata": {},
   "source": [
    "### Binomial distribution\n",
    "QUESTION: Suppose the probability of developing chronic bronchitis disease in any one household (where both parents are chronic bronchitics) is 0.05. How likely are infants in at least 3 out 20 households (where both parents are chronic bronchitics) to develop chronic bronchitis ?"
   ]
  },
  {
   "cell_type": "code",
   "execution_count": null,
   "metadata": {},
   "outputs": [],
   "source": [
    "numhouse = 0:20\n",
    "cbProb <- dbinom(numhouse,  20, 0.05) \n",
    "names(cbProb) = c(numhouse)\n",
    "barplot(cbProb, ylab=\"Probability\", xlab=\"k\", col=ifelse(numhouse >= 3, \"orange\", \"grey\") )"
   ]
  },
  {
   "cell_type": "markdown",
   "metadata": {},
   "source": [
    "### Poisson distribution\n",
    "QUESTION: Birth in a hospital occur randomly at an average rate of 1.8 births per hours. what is the probability of observing exactly 4 births in a given hour at the hospital? What about the probability of obeserving more than or equal to 2 births in a given hospital?"
   ]
  },
  {
   "cell_type": "code",
   "execution_count": null,
   "metadata": {},
   "outputs": [],
   "source": [
    "dpois(4, lambda = 1.8)\n",
    "countbirth = c(0:12)\n",
    "probbirth = dpois(countbirth, lambda = 1.8)\n",
    "names(probbirth) = countbirth\n",
    "barplot(probbirth, ylab = \"probability\", xlab = \"number of birth\")"
   ]
  },
  {
   "cell_type": "markdown",
   "metadata": {},
   "source": [
    "### Normal distribution\n",
    "QUESTION: Can you repeat the code below by generating numbers from the Chi-square distribution with degree of freedom 2 instead of Normal distribution?"
   ]
  },
  {
   "cell_type": "code",
   "execution_count": null,
   "metadata": {},
   "outputs": [],
   "source": [
    "myRandomNumbers = rnorm(2000, 0, 1)\n",
    "shapiro.test(myRandomNumbers)\n",
    "qqnorm(myRandomNumbers)\n",
    "qqline(myRandomNumbers)\n",
    "hist(myRandomNumbers)"
   ]
  },
  {
   "cell_type": "markdown",
   "metadata": {},
   "source": [
    "### Paired t test\n",
    "QUESTION: Oral Contraceptive (OC) study with a group of nonpregnant, premenopausal women of age (16-49) who are not currently OC user measured their blood pressure and call this baseline blood pressure. After one year, rescreen these women to ascertain a subgroup who have remained nonpregnant throughout the year and have become OC users. And measure the blood pressure of this study population at the follow-up visit. What is the mean of the difference in systolic blood pressure between two groups?"
   ]
  },
  {
   "cell_type": "code",
   "execution_count": null,
   "metadata": {},
   "outputs": [],
   "source": [
    "sbpBaseline <- c(115, 112, 107, 119, 115, 138, 126, 105, 104, 115)\n",
    "sbpUsingOC  <- c(128, 115, 106, 128, 122, 145, 132, 109, 102, 117)\n",
    "t.test(sbpBaseline, sbpUsingOC, paired = TRUE)"
   ]
  },
  {
   "cell_type": "markdown",
   "metadata": {},
   "source": [
    "### Two-sample t-test\n",
    "QUESTION: Is there a significant difference in birth weight between smoker and non-smokers during pregnancy?"
   ]
  },
  {
   "cell_type": "code",
   "execution_count": null,
   "metadata": {},
   "outputs": [],
   "source": [
    "data(birthwt)\n",
    "head(birthwt)\n",
    "boxplot( bwt ~ factor(ui), data = birthwt, boxwex=0.3,  col = c(\"royalblue\", \"orange\"),\n",
    "         ylab = \"birth weight in grams\", xlab = \"Presence of uterine irritability\")\n",
    "t.test( birthwt$bwt[birthwt$ui==1], birthwt$bwt[birthwt$ui==0], paired = FALSE)"
   ]
  },
  {
   "cell_type": "markdown",
   "metadata": {},
   "source": [
    "### Wilcoxon rank-sum test, a non-parametric test for two independent samples\n",
    "QUESTION: Why might a t-test not be useful to ccompare the hospital Length Of Stay (LOS) between two hospitals A and B?"
   ]
  },
  {
   "cell_type": "code",
   "execution_count": null,
   "metadata": {},
   "outputs": [],
   "source": [
    "LOS.hospitalA = c(21, 10, 32, 60, 8, 44, 29, 5, 13, 26, 33)\n",
    "LOS.hospitalB = c(86, 27, 10, 68, 87, 76, 125, 60, 35, 73, 96, 44, 238)\n",
    "wilcox.test(LOS.hospitalA , LOS.hospitalB) "
   ]
  },
  {
   "cell_type": "markdown",
   "metadata": {},
   "source": [
    "### Statistical power and sample size estimation\n",
    "The power of a statistical test is the probability of correctly rejecting the null hypothesis when it is false and defined as 1 - beta = Pr(reject null hupothesis when it is false)"
   ]
  },
  {
   "cell_type": "markdown",
   "metadata": {},
   "source": [
    "### Example: Coronary heart disease\n",
    "- Consider a clinical trial for evaluation of the effect of a test drug on cholesterol in patients with coronary heart disease (CHD).\n",
    "- Cholesterol is the main lipid associated with atherosclerotic vascular disease (ASVD). The purpose of cholesterol testing is to identify patients at risk for atherosclerosis.\n",
    "- About 75% of the cholesterol is bound to low density lipoproteins (LDLs) and 25% to high density lipoproteins (HDLs). Of these, LDL is the most directly associate with increased risk of CHD.\n",
    "- A pharmaceutical company is interested in conducting a clinical trial to compare two cholesterol lowering agents for treatment of patients with CHD through a parallel design. The primary efficacy parameter is the LDL.\n",
    "- Suppose a difference of 5% in percent change of LDL is considered of clinically meaningful difference.\n",
    "- Assume that the standard deviation is 10%.\n",
    "- Reference: Chow,S et al. (2008) Sample size calculations in clinical research. Boca Raton,FL. Chapman and Hall/CRC.\n",
    "\n",
    "QUESTION: What is the required sample size per group to achieve an 80% power at the 5% significance level?\n"
   ]
  },
  {
   "cell_type": "code",
   "execution_count": null,
   "metadata": {},
   "outputs": [],
   "source": [
    "# DEFINE A FUNCTION\n",
    "ss.two_sample_mean = function(sigma, epsilon, alpha, beta) {\n",
    "    term.top =  (qnorm(1-alpha/2) + qnorm(beta) )^2 * sigma^2 * 2\n",
    "    term.bottom <-  abs(epsilon)^2\n",
    "    return(  ceiling( term.top / term.bottom ) )\n",
    "}\n",
    "\n",
    "# RUN A FUNCTION FOR A CORONARY HEART DISEASE EXAMPLE\n",
    "ss.two_sample_mean(0.1, 0.05, 0.05, 0.8)\n",
    "# [1] 63\n",
    "\n",
    "# VARY PARAMETERS \n",
    "my.sigma = seq(0.05, 0.3, 0.05); my.epsilon = seq(0.05, 0.2, 0.05)\n",
    "len.sigma = length(my.sigma); len.epsilon = length(my.epsilon);\n",
    "my.ssize = matrix(1, nrow=len.sigma, ncol=len.epsilon, byrow=TRUE)\n",
    "for(i in 1:len.sigma) {\n",
    "   for(j in 1:len.epsilon) {\n",
    "      my.ssize[i,j] = ss.two_sample_mean(my.sigma[i], my.epsilon[j], 0.05, 0.8)\n",
    "    }\n",
    "}\n",
    "\n",
    "# DRAW A PLOT\n",
    "my.color = c(\"red\", \"gold\", \"blue\", \"green4\")\n",
    "plot(my.sigma, my.ssize[,1], type=\"b\", ylim=c(0, max(my.ssize)), col = my.color[1],\n",
    "      xlab=\"standard deviation\", ylab=\"Required sample size in one arm\" )\n",
    "points(my.sigma, my.ssize[,2], type=\"b\", pch=17, col=my.color[2] )\n",
    "points(my.sigma, my.ssize[,3], type=\"b\", pch=22, col=my.color[3] )\n",
    "points(my.sigma, my.ssize[,4], type=\"b\", pch=16, col=my.color[4] )\n",
    "legend(my.sigma[1], max(my.ssize)*0.9,  legend=my.epsilon, pch=c(1, 17, 22, 16), \n",
    "    col = my.color, title=\"mean difference\"  )"
   ]
  },
  {
   "cell_type": "markdown",
   "metadata": {},
   "source": [
    "### Logistic Regression.\n"
   ]
  },
  {
   "cell_type": "code",
   "execution_count": null,
   "metadata": {},
   "outputs": [],
   "source": [
    "data(birthwt)\n",
    "bwt.df <- with(birthwt, {\n",
    "  race <- factor(race, labels = c(\"white\", \"black\", \"other\"))\n",
    "  ptd <- factor(ptl > 0)\n",
    "  ftv <- factor(ftv)\n",
    "  levels(ftv)[-(1:2)] <- \"2+\"\n",
    "  data.frame(low = factor(low), bwt, age, lwt, race, smoke = (smoke > 0),\n",
    "             ptd, ht = (ht > 0), ui = (ui > 0), ftv)\n",
    "})"
   ]
  },
  {
   "cell_type": "markdown",
   "metadata": {},
   "source": [
    "### Exploratory Data Analysis \n",
    "QUESTION: Can you create a similar boxplot of bwt along smoking status?"
   ]
  },
  {
   "cell_type": "code",
   "execution_count": null,
   "metadata": {},
   "outputs": [],
   "source": [
    "### Exploratory data analysis\n",
    "ggplot(bwt.df, aes(x=race, y=bwt, fill=race)) + geom_boxplot(width=0.4) \n",
    "ggplot(bwt.df, aes(x=ht, y=bwt, fill=ht)) + \n",
    "  geom_boxplot(width=0.4) + xlab(\"History of hypertension\")\n",
    "ggplot(bwt.df, aes(x=ui, y=bwt, fill=ui) ) + \n",
    "  geom_boxplot(width=0.4) + xlab(\"Presence of uterine irritability\")\n",
    "ggplot(bwt.df, aes(x=ftv, y=bwt, fill=ftv)) +\n",
    "   geom_boxplot(width=0.4) + xlab(\"Number of physician visits during the first trimester\")\n",
    "ggplot(bwt.df, aes(x=ptd, y=bwt, fill=ptd)) + \n",
    "  geom_boxplot(width=0.4)  + xlab(\"History of premature labors\")"
   ]
  },
  {
   "cell_type": "markdown",
   "metadata": {},
   "source": [
    "### Fit a logistic regression model "
   ]
  },
  {
   "cell_type": "code",
   "execution_count": null,
   "metadata": {},
   "outputs": [],
   "source": [
    "bwt <- with(birthwt, {\n",
    "  race <- factor(race, labels = c(\"white\", \"black\", \"other\"))\n",
    "  ptd <- factor(ptl > 0)\n",
    "  ftv <- factor(ftv)\n",
    "  levels(ftv)[-(1:2)] <- \"2+\"\n",
    "  data.frame(low = factor(low), age, lwt, race, smoke = (smoke > 0),\n",
    "             ptd, ht = (ht > 0), ui = (ui > 0), ftv)\n",
    "})\n",
    "options(contrasts = c(\"contr.treatment\", \"contr.poly\"))\n",
    "m1 = glm(low ~ ., data = bwt, family = \"binomial\")\n",
    "summary(m1)$coef"
   ]
  },
  {
   "cell_type": "markdown",
   "metadata": {},
   "source": [
    "### Model discrimination"
   ]
  },
  {
   "cell_type": "code",
   "execution_count": null,
   "metadata": {},
   "outputs": [],
   "source": [
    "mypred = prediction(m1$fitted.values, m1$y)\n",
    "roc.perf = performance(mypred, measure = \"tpr\", x.measure = \"fpr\")\n",
    "auc.perf = performance(mypred, measure = \"auc\")\n",
    "plot(roc.perf, col = \"orange\", lwd = 2,\n",
    "     main = paste ( \"AUC = \", round(auc.perf@y.values[[1]], 2), sep=\"\" )  )\n",
    "abline(a = 0, b = 1, lty = 2)"
   ]
  },
  {
   "cell_type": "markdown",
   "metadata": {},
   "source": [
    "### Model calibration\n",
    "QUESTION: Which probability bin has the most ambiguous mix of two lables (low vs. normal)?"
   ]
  },
  {
   "cell_type": "code",
   "execution_count": null,
   "metadata": {},
   "outputs": [],
   "source": [
    "myhl = hoslem.test(m1$y, m1$fitted.values, g=10)\n",
    "mycalib = data.frame(  \n",
    "            predictionbin = factor(  c( rownames(myhl$observed), \n",
    "                                        rownames(myhl$observed)),\n",
    "                                    levels = rownames(myhl$observed)),\n",
    "            observedfreq = c(myhl$observed[,1], myhl$observed[,2]),\n",
    "            birthweight = factor( c( rep(\"normal\", 10), rep(\"low\", 10) ),\n",
    "                                  levels = c(\"normal\", \"low\")) )\n",
    "ggplot(data=mycalib, \n",
    "         aes(x=predictionbin, y=observedfreq, fill = birthweight)) +\n",
    "      geom_bar(stat=\"identity\", position=position_dodge()) +\n",
    "      theme(axis.text.x=element_text(angle=30, hjust=1) ) +\n",
    "     scale_fill_manual(values = c(\"royalblue\", \"orange\")) +\n",
    "     ylab(\"Observed frequency\") +\n",
    "     xlab(\"Prediction probability bin\") +\n",
    "     ggtitle( paste(\"pvalue.HL = \", round(myhl$p.value, 4), sep=\"\"))\n"
   ]
  },
  {
   "cell_type": "markdown",
   "metadata": {},
   "source": [
    "### Survival Anslysis\n",
    "- The most important difference between the outcome variables modeled via linear/logistic regression and survival analysis is the fact that we may observe the survival time partially\n",
    "- For those subjects who died, it is the outcome variable of interest, the actual survival time.\n",
    "- However, for subjects who were alive at the end of the study, or for subjects who were lost, the time variable indicates the length of follow-up, which is a partial or incomplete observation of survival time\n",
    "- These incomplete observations are referred to as being censored\n",
    "- If we ignore the consoling and treat the censored observations as if they were measurements of survival time, then the resulting sample statistics are NOT estimators of the respective parameters of the survival time distribution."
   ]
  },
  {
   "cell_type": "markdown",
   "metadata": {},
   "source": [
    "### Survival analysis with lung cancer\n",
    "Loprinzi et al.  Journal of Clinical Oncology. 12(3):601-7, 1994.\n",
    "\n",
    "- inst:\tInstitution code\n",
    "- time:\tSurvival time in days\n",
    "- status:\tcensoring status 1=censored, 2=dead\n",
    "- age:\tAge in years\n",
    "- sex:\tMale=1 Female=2\n",
    "- ph.ecog:\tECOG performance score (0=good 5=dead)\n",
    "- ph.karno:\tKarnofsky performance score (bad=0-good=100) rated by physician\n",
    "- pat.karno:\tKarnofsky performance score as rated by patient\n",
    "- meal.cal:\tCalories consumed at meals\n",
    "- wt.loss:\tWeight loss in last six months"
   ]
  },
  {
   "cell_type": "code",
   "execution_count": null,
   "metadata": {},
   "outputs": [],
   "source": [
    "data(lung)\n",
    "head(lung)\n",
    "m1.surv = survfit( Surv(time,status) ~ sex, data = lung)\n",
    "print(m1.surv)"
   ]
  },
  {
   "cell_type": "markdown",
   "metadata": {},
   "source": [
    "### Kaplan-Meier curve\n",
    "QUESTION: What is the median survival time for male?"
   ]
  },
  {
   "cell_type": "code",
   "execution_count": null,
   "metadata": {},
   "outputs": [],
   "source": [
    "m1.diff = survdiff(Surv(time, status) ~ sex, data = lung)\n",
    "m1.diff\n",
    "ggsurvplot(m1.surv, data = lung, conf.int = TRUE, pval = TRUE, \n",
    "           palette = c(\"orange\", \"royalblue\"),\n",
    "           legend.labs =  c(\"Male\", \"Female\"), surv.median.line = \"hv\",\n",
    "           risk.table = \"abs_pct\", risk.table.col = \"strata\", ggtheme = theme_bw() )"
   ]
  },
  {
   "cell_type": "markdown",
   "metadata": {},
   "source": [
    "### survival analysis: Cox Proportional Hazards (PH) model"
   ]
  },
  {
   "cell_type": "code",
   "execution_count": null,
   "metadata": {},
   "outputs": [],
   "source": [
    "m.coxPH <- coxph(Surv(time, status) ~ age + sex + ph.ecog, data =  lung)\n",
    "summary(m.coxPH)\n",
    "sex_df <- with(lung,\n",
    "               data.frame(sex = c(1, 2), \n",
    "                          age = rep(mean(age, na.rm = TRUE), 2),\n",
    "                          ph.ecog = c(1, 1)\n",
    "               )\n",
    ")\n",
    "m2.surv <- survfit(m.coxPH, newdata = sex_df)\n",
    "ggsurvplot(m2.surv, data = sex_df, conf.int = TRUE, \n",
    "           palette = c(\"orange\", \"royalblue\"), \n",
    "           legend.labs= c(\"Male\", \"Female\"),  surv.median.line = \"hv\",\n",
    "           ggtheme = theme_bw() )\n"
   ]
  },
  {
   "cell_type": "markdown",
   "metadata": {},
   "source": [
    "### Meta-analysis odds ratio\n",
    "A randomised trial of corticosteroid therapy in premature labor and its effect on neonatal death."
   ]
  },
  {
   "cell_type": "code",
   "execution_count": null,
   "metadata": {},
   "outputs": [],
   "source": [
    "data( cochrane )\n",
    "head( cochrane )\n",
    "steroid <- meta.MH(n.trt, n.ctrl, \n",
    "                   ev.trt, ev.ctrl,\n",
    "                   names=name, data=cochrane)\n",
    "tabletext <- cbind( \n",
    "  c(\"\",\"Study\",steroid$names,NA,\"Summary\"),\n",
    "  c(\"Deaths\",\"(steroid)\",cochrane$ev.trt,NA,NA),\n",
    "  c(\"Deaths\",\"(placebo)\", cochrane$ev.ctrl, NA,NA),\n",
    "  c(\"\",\"OR\",format(exp(steroid$logOR),digits=2),NA,format(exp(steroid$logMH),digits=2))\n",
    ")\n",
    "m.ci <-     c(NA, NA, steroid$logOR,   NA, steroid$logMH)\n",
    "l.ci <- m.ci - c(NA, NA, steroid$selogOR, NA, steroid$selogMH)*2\n",
    "u.ci <- m.ci + c(NA, NA, steroid$selogOR, NA, steroid$selogMH)*2\n",
    "\n",
    "forestplot(tabletext, m.ci, l.ci, u.ci, zero=0, \n",
    "           is.summary=c(TRUE,TRUE,rep(FALSE,8),TRUE),\n",
    "           clip=c(log(0.1),log(2.5)), \n",
    "           xlog=TRUE,\n",
    "           col=meta.colors(box=\"royalblue\", \n",
    "                           line=\"darkblue\", \n",
    "                           summary=\"royalblue\"))"
   ]
  },
  {
   "cell_type": "markdown",
   "metadata": {},
   "source": [
    "### References\n",
    "Hosmer, DW and Lemeshow, S. Applied survival analysis\n",
    "\n",
    "Rosner, B. Fundamentals of Biostatistics"
   ]
  }
 ],
 "metadata": {
  "kernelspec": {
   "display_name": "R",
   "language": "R",
   "name": "ir"
  },
  "language_info": {
   "codemirror_mode": "r",
   "file_extension": ".r",
   "mimetype": "text/x-r-source",
   "name": "R",
   "pygments_lexer": "r",
   "version": "3.5.0"
  }
 },
 "nbformat": 4,
 "nbformat_minor": 2
}
